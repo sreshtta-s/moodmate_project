{
 "cells": [
  {
   "cell_type": "code",
   "execution_count": 8,
   "id": "23d50de9-b4e1-454a-9646-f79d75e7c5c8",
   "metadata": {},
   "outputs": [],
   "source": [
    "import pandas as pd\n",
    "import numpy as np\n",
    "import matplotlib.pyplot as plt\n",
    "plt.style.use('default')"
   ]
  },
  {
   "cell_type": "code",
   "execution_count": 9,
   "id": "ed51becb-74a5-46d9-90c2-713f11c5d676",
   "metadata": {},
   "outputs": [],
   "source": [
    "import os\n",
    "import tensorflow as tf\n",
    "import keras\n",
    "import cv2"
   ]
  },
  {
   "cell_type": "code",
   "execution_count": 10,
   "id": "35f3e187-2dbf-4c79-ae42-28a1f7ca42c1",
   "metadata": {},
   "outputs": [],
   "source": [
    "from tensorflow.keras.preprocessing.image import ImageDataGenerator, load_img, img_to_array\n",
    "from tensorflow.keras.callbacks import EarlyStopping, ModelCheckpoint, ReduceLROnPlateau\n",
    "from tensorflow.keras.utils import plot_model\n",
    "from tensorflow.keras import layers,models,optimizers\n",
    "from tensorflow.keras.models import Sequential,Model\n",
    "from tensorflow.keras.layers import *\n",
    "from tensorflow.keras.applications import ResNet50V2\n"
   ]
  },
  {
   "cell_type": "code",
   "execution_count": 11,
   "id": "6e4ad92b",
   "metadata": {},
   "outputs": [],
   "source": [
    "import zipfile\n",
    "import os\n",
    "\n",
    "# Define the path to your zip file and the directory to extract it to\n",
    "zip_file_path = 'C:\\\\Users\\\\Lenovo\\\\OneDrive\\\\Documents\\\\archive.zip'\n",
    "extraction_path = 'C:\\\\Users\\\\Lenovo\\\\Documents\\\\Extracted_Data'\n",
    "\n",
    "# Create the extraction directory if it doesn't exist\n",
    "os.makedirs(extraction_path, exist_ok=True)\n",
    "\n",
    "# Unzip the archive\n",
    "with zipfile.ZipFile(zip_file_path, 'r') as zip_ref:\n",
    "    zip_ref.extractall(extraction_path)\n",
    "\n",
    "# Now, update your directory paths to point to the extracted data\n",
    "train_dir = os.path.join(extraction_path, 'train')\n",
    "test_dir = os.path.join(extraction_path, 'test')\n",
    "\n",
    "# Your original code can now run without the FileNotFoundError\n",
    "#Train_Count = Classes_Count(train_dir, 'Train').transpose().sort_values(by=\"Train\", ascending=False)\n",
    "#Test_Count  = Classes_Count(test_dir, 'Test').transpose().sort_values(by=\"Test\", ascending=False)\n",
    "#train_dir = \n",
    "#test_dir = \n",
    "def Classes_Count(path, name):\n",
    "    Classes_Dict = {}\n",
    "    for cls in os.listdir(path):\n",
    "        Classes_Dict[cls] = len(os.listdir(os.path.join(path, cls)))\n",
    "    df = pd.DataFrame(Classes_Dict, index=[name])\n",
    "    return df\n",
    "\n",
    "Train_Count = Classes_Count(train_dir, 'Train').transpose().sort_values(by=\"Train\", ascending=False)\n",
    "Test_Count  = Classes_Count(test_dir, 'Test').transpose().sort_values(by=\"Test\", ascending=False)"
   ]
  },
  {
   "cell_type": "code",
   "execution_count": 12,
   "id": "318e29ec-12b9-4a25-8ca2-e907e58f12aa",
   "metadata": {},
   "outputs": [
    {
     "data": {
      "text/html": [
       "<div>\n",
       "<style scoped>\n",
       "    .dataframe tbody tr th:only-of-type {\n",
       "        vertical-align: middle;\n",
       "    }\n",
       "\n",
       "    .dataframe tbody tr th {\n",
       "        vertical-align: top;\n",
       "    }\n",
       "\n",
       "    .dataframe thead th {\n",
       "        text-align: right;\n",
       "    }\n",
       "</style>\n",
       "<table border=\"1\" class=\"dataframe\">\n",
       "  <thead>\n",
       "    <tr style=\"text-align: right;\">\n",
       "      <th></th>\n",
       "      <th>Train</th>\n",
       "      <th>Test</th>\n",
       "    </tr>\n",
       "  </thead>\n",
       "  <tbody>\n",
       "    <tr>\n",
       "      <th>happy</th>\n",
       "      <td>7215</td>\n",
       "      <td>1774</td>\n",
       "    </tr>\n",
       "    <tr>\n",
       "      <th>neutral</th>\n",
       "      <td>4965</td>\n",
       "      <td>1233</td>\n",
       "    </tr>\n",
       "    <tr>\n",
       "      <th>sad</th>\n",
       "      <td>4830</td>\n",
       "      <td>1247</td>\n",
       "    </tr>\n",
       "    <tr>\n",
       "      <th>fear</th>\n",
       "      <td>4097</td>\n",
       "      <td>1024</td>\n",
       "    </tr>\n",
       "    <tr>\n",
       "      <th>angry</th>\n",
       "      <td>3995</td>\n",
       "      <td>958</td>\n",
       "    </tr>\n",
       "    <tr>\n",
       "      <th>surprise</th>\n",
       "      <td>3171</td>\n",
       "      <td>831</td>\n",
       "    </tr>\n",
       "    <tr>\n",
       "      <th>disgust</th>\n",
       "      <td>436</td>\n",
       "      <td>111</td>\n",
       "    </tr>\n",
       "  </tbody>\n",
       "</table>\n",
       "</div>"
      ],
      "text/plain": [
       "          Train  Test\n",
       "happy      7215  1774\n",
       "neutral    4965  1233\n",
       "sad        4830  1247\n",
       "fear       4097  1024\n",
       "angry      3995   958\n",
       "surprise   3171   831\n",
       "disgust     436   111"
      ]
     },
     "execution_count": 12,
     "metadata": {},
     "output_type": "execute_result"
    }
   ],
   "source": [
    "pd.concat([Train_Count,Test_Count],axis=1)"
   ]
  },
  {
   "cell_type": "code",
   "execution_count": 13,
   "id": "85b138bd-cfbc-4593-92a0-95fa7b93bc1e",
   "metadata": {},
   "outputs": [
    {
     "data": {
      "text/plain": [
       "<Axes: >"
      ]
     },
     "execution_count": 13,
     "metadata": {},
     "output_type": "execute_result"
    },
    {
     "data": {
      "image/png": "[encoded data removed]",
      "text/plain": [
       "<Figure size 640x480 with 1 Axes>"
      ]
     },
     "metadata": {},
     "output_type": "display_data"
    }
   ],
   "source": [
    " Train_Count.plot(kind='barh')"
   ]
  },
  {
   "cell_type": "code",
   "execution_count": 14,
   "id": "73a37b63-9fd1-400e-8e94-79cd594e3da6",
   "metadata": {},
   "outputs": [
    {
     "data": {
      "text/plain": [
       "<Axes: >"
      ]
     },
     "execution_count": 14,
     "metadata": {},
     "output_type": "execute_result"
    },
    {
     "data": {
      "image/png": "[encoded data removed]",
      "text/plain": [
       "<Figure size 640x480 with 1 Axes>"
      ]
     },
     "metadata": {},
     "output_type": "display_data"
    }
   ],
   "source": [
    "Test_Count.plot(kind='barh')"
   ]
  },
  {
   "cell_type": "code",
   "execution_count": 15,
   "id": "ffa6ed74-1fd7-469c-bfb5-17723d888968",
   "metadata": {},
   "outputs": [
    {
     "ename": "FileNotFoundError",
     "evalue": "[WinError 3] The system cannot find the path specified: 'C:/Users/saiko/Downloads/Emotion/dataset/train'",
     "output_type": "error",
     "traceback": [
      "\u001b[31m---------------------------------------------------------------------------\u001b[39m",
      "\u001b[31mFileNotFoundError\u001b[39m                         Traceback (most recent call last)",
      "\u001b[36mCell\u001b[39m\u001b[36m \u001b[39m\u001b[32mIn[15]\u001b[39m\u001b[32m, line 7\u001b[39m\n\u001b[32m      3\u001b[39m BASE_URL = \u001b[33m\"\u001b[39m\u001b[33mC:/Users/saiko/Downloads/Emotion/dataset/train\u001b[39m\u001b[33m\"\u001b[39m\n\u001b[32m      5\u001b[39m plt.figure(figsize=(\u001b[32m15\u001b[39m, \u001b[32m6\u001b[39m))   \u001b[38;5;66;03m# set figure size\u001b[39;00m\n\u001b[32m----> \u001b[39m\u001b[32m7\u001b[39m \u001b[38;5;28;01mfor\u001b[39;00m idx, directory \u001b[38;5;129;01min\u001b[39;00m \u001b[38;5;28menumerate\u001b[39m(\u001b[43mos\u001b[49m\u001b[43m.\u001b[49m\u001b[43mlistdir\u001b[49m\u001b[43m(\u001b[49m\u001b[43mBASE_URL\u001b[49m\u001b[43m)\u001b[49m):\n\u001b[32m      8\u001b[39m     \u001b[38;5;28;01mif\u001b[39;00m directory[\u001b[32m0\u001b[39m] != \u001b[33m\"\u001b[39m\u001b[33m-\u001b[39m\u001b[33m\"\u001b[39m:  \u001b[38;5;66;03m# skip hidden/system files\u001b[39;00m\n\u001b[32m      9\u001b[39m         class_path = os.path.join(BASE_URL, directory)\n",
      "\u001b[31mFileNotFoundError\u001b[39m: [WinError 3] The system cannot find the path specified: 'C:/Users/saiko/Downloads/Emotion/dataset/train'"
     ]
    },
    {
     "data": {
      "text/plain": [
       "<Figure size 1500x600 with 0 Axes>"
      ]
     },
     "metadata": {},
     "output_type": "display_data"
    }
   ],
   "source": [
    "from tensorflow.keras.preprocessing.image import load_img\n",
    "\n",
    "BASE_URL = \"C:/Users/saiko/Downloads/Emotion/dataset/train\"\n",
    "\n",
    "plt.figure(figsize=(15, 6))   # set figure size\n",
    "\n",
    "for idx, directory in enumerate(os.listdir(BASE_URL)):\n",
    "    if directory[0] != \"-\":  # skip hidden/system files\n",
    "        class_path = os.path.join(BASE_URL, directory)\n",
    "        files = os.listdir(class_path)\n",
    "\n",
    "        if files:  # make sure folder not empty\n",
    "            img_path = os.path.join(class_path, files[0])  # take first image\n",
    "            img = load_img(img_path, target_size=(48, 48),color_mode='rgb')  # resize for display\n",
    "\n",
    "            plt.subplot(2, 4, idx + 1)   # adjust rows/cols if you have >8 classes\n",
    "            plt.imshow(img)\n",
    "            plt.title(directory)\n",
    "            plt.axis(\"off\")\n",
    "\n",
    "plt.tight_layout()\n",
    "plt.show()\n"
   ]
  },
  {
   "cell_type": "code",
   "execution_count": null,
   "id": "40b33eac-3dba-4616-8bc1-a23bc75fefd4",
   "metadata": {},
   "outputs": [],
   "source": [
    "img_shape = 48\n",
    "batch_size = 64\n",
    "train_data_path = \"C:/Users/saiko/Downloads/Emotion/dataset/train\"\n",
    "test_data_path = \"C:/Users/saiko/Downloads/Emotion/dataset/test\" "
   ]
  },
  {
   "cell_type": "code",
   "execution_count": null,
   "id": "bbd8bf48-831b-4f22-9731-33ff6a1fa27d",
   "metadata": {},
   "outputs": [
    {
     "name": "stdout",
     "output_type": "stream",
     "text": [
      "Found 28709 images belonging to 7 classes.\n",
      "Found 7178 images belonging to 7 classes.\n"
     ]
    }
   ],
   "source": [
    "train_preprocessor = ImageDataGenerator(\n",
    "    rescale = 1/255.,\n",
    "    #data augmentation\n",
    "    rotation_range=10,\n",
    "    zoom_range=0.2,\n",
    "    width_shift_range=0.1,\n",
    "    height_shift_range=0.1,\n",
    "    horizontal_flip=True,\n",
    "    fill_mode='nearest',\n",
    ")\n",
    "test_preprocessor = ImageDataGenerator(\n",
    "    rescale = 1/255.,\n",
    ")\n",
    "train_data = train_preprocessor.flow_from_directory(\n",
    "    train_data_path,\n",
    "    class_mode=\"categorical\",\n",
    "    target_size=(img_shape,img_shape),\n",
    "    color_mode='rgb',\n",
    "    shuffle=True,\n",
    "    batch_size=batch_size,\n",
    "    subset='training',\n",
    ")\n",
    "test_data = test_preprocessor.flow_from_directory(\n",
    "    test_data_path,\n",
    "    class_mode=\"categorical\",\n",
    "    target_size=(img_shape, img_shape),\n",
    "    color_mode=\"rgb\",\n",
    "    shuffle=False,      \n",
    "    batch_size=batch_size,\n",
    ")"
   ]
  },
  {
   "cell_type": "code",
   "execution_count": null,
   "id": "dcc72261-511d-40e9-af9d-b3ff97134ae9",
   "metadata": {},
   "outputs": [],
   "source": [
    "#Buliding CNN Model"
   ]
  },
  {
   "cell_type": "code",
   "execution_count": null,
   "id": "0d73f8cc-949a-41c2-8092-ca433ecc6c19",
   "metadata": {},
   "outputs": [],
   "source": [
    "def Create_CNN_Model():\n",
    "    model = se"
   ]
  }
 ],
 "metadata": {
  "kernelspec": {
   "display_name": "Python 3",
   "language": "python",
   "name": "python3"
  },
  "language_info": {
   "codemirror_mode": {
    "name": "ipython",
    "version": 3
   },
   "file_extension": ".py",
   "mimetype": "text/x-python",
   "name": "python",
   "nbconvert_exporter": "python",
   "pygments_lexer": "ipython3",
   "version": "3.13.3"
  }
 },
 "nbformat": 4,
 "nbformat_minor": 5
}
